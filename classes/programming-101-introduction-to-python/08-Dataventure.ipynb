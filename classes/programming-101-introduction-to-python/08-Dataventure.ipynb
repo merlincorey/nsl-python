{
 "cells": [
  {
   "cell_type": "code",
   "execution_count": 1,
   "metadata": {},
   "outputs": [
    {
     "name": "stdout",
     "output_type": "stream",
     "text": [
      "==============================\n",
      "Welcome to my Awesome Program!\n",
      "==============================\n",
      "\n",
      "What is your name? Merlin\n",
      "Your name is: Merlin\n",
      "\n",
      "Are you ready for an adventure? yes\n",
      "\n",
      "ADVENTURE TIME\n",
      "ADVENTURE TIME\n",
      "ADVENTURE TIME\n",
      "ADVENTURE TIME\n",
      "ADVENTURE TIME\n",
      "\n"
     ]
    }
   ],
   "source": [
    "print('=' * 30)\n",
    "print('Welcome to my Awesome Program!')\n",
    "print('=' * 30)\n",
    "\n",
    "print()\n",
    "a = input('What is your name? ')\n",
    "print('Your name is: {}'.format(a))\n",
    "print()\n",
    "b = input('Are you ready for an adventure? ')\n",
    "print()\n",
    "if 'yes' == b.lower():\n",
    "    print('ADVENTURE TIME\\n' * 5)\n",
    "else:\n",
    "    print('FINE BE THAT WAY')"
   ]
  },
  {
   "cell_type": "code",
   "execution_count": 2,
   "metadata": {},
   "outputs": [
    {
     "ename": "TabError",
     "evalue": "inconsistent use of tabs and spaces in indentation (<ipython-input-2-ce00e549b262>, line 17)",
     "output_type": "error",
     "traceback": [
      "\u001b[0;36m  File \u001b[0;32m\"<ipython-input-2-ce00e549b262>\"\u001b[0;36m, line \u001b[0;32m17\u001b[0m\n\u001b[0;31m    print('You are in the {}'.format(room))\u001b[0m\n\u001b[0m                                           ^\u001b[0m\n\u001b[0;31mTabError\u001b[0m\u001b[0;31m:\u001b[0m inconsistent use of tabs and spaces in indentation\n"
     ]
    }
   ],
   "source": [
    "import sys\n",
    "\n",
    "\n",
    "def adventure():\n",
    "    '''Play the adventure, reading from standard input and writing to standard output.'''\n",
    "\n",
    "    rooms = {'lab': 'A bright and messy labratory.',\n",
    "\t     'toilet': 'A dark and clean toilet.'}\n",
    "    room = 'lab'\n",
    "\n",
    "    name = input('Welcome traveler!  What be yer name? ')\n",
    "    print('That is a strange name, {}, but I like it.'.format(name))\n",
    "\n",
    "    living = True\n",
    "    winning = False\n",
    "    while living and not winning:\n",
    "\tprint('You are in the {}'.format(room))\n",
    "\tprint(rooms[room])\n",
    "\taction = input('What will {} do?\\n> '.format(name)).strip().lower()\n",
    "\n",
    "\tif 'die' == action:\n",
    "\t    print('Suddenly, you do not feel so good.  Maybe you should lie down.')            \n",
    "\t    living = False\n",
    "\telif 'north':\n",
    "\t    if 'lab' == room:\n",
    "\t\troom = 'toilet'\n",
    "\telif 'south':\n",
    "\t    if 'toilet' == room:\n",
    "\t\troom = 'lab'\n",
    "\telif 'sleep' == action:\n",
    "\t    print('You feel fine, no need to sleep.')\n",
    "\telse:\n",
    "\t    print('Not sure what you meant by that, boss.')\n",
    "\n",
    "\n",
    "    if living:\n",
    "\tprint('You made it out alive, {}!'.format(name))\n",
    "    else:\n",
    "\tprint('Sorry, {}, but you are DEAD!'.format(name))\n",
    "\n",
    "    if winning:\n",
    "\tprint('I am not sure how, but you also managed to win!  Great job!')\n",
    "\n",
    "\n",
    "def main(argv):\n",
    "    '''Return exit code as integer, receives commandline arguments as list of strings, runs Adventure in between.'''\n",
    "    adventure()\n",
    "    return 0"
   ]
  },
  {
   "cell_type": "code",
   "execution_count": 3,
   "metadata": {},
   "outputs": [],
   "source": [
    "import adventure"
   ]
  },
  {
   "cell_type": "code",
   "execution_count": 5,
   "metadata": {},
   "outputs": [
    {
     "name": "stdout",
     "output_type": "stream",
     "text": [
      "Welcome traveler!  What be yer name? Merlin\n",
      "That is a strange name, Merlin, but I like it.\n",
      "You are in the lab\n",
      "A bright and messy labratory.\n",
      "What will Merlin do?\n",
      "> look\n",
      "You are in the toilet\n",
      "A dark and clean toilet.\n",
      "What will Merlin do?\n",
      "> pee\n",
      "You are in the toilet\n",
      "A dark and clean toilet.\n",
      "What will Merlin do?\n",
      "> die\n",
      "Suddenly, you do not feel so good.  Maybe you should lie down.\n",
      "Sorry, Merlin, but you are DEAD!\n"
     ]
    },
    {
     "data": {
      "text/plain": [
       "0"
      ]
     },
     "execution_count": 5,
     "metadata": {},
     "output_type": "execute_result"
    }
   ],
   "source": [
    "adventure.main([])"
   ]
  },
  {
   "cell_type": "raw",
   "metadata": {},
   "source": []
  }
 ],
 "metadata": {
  "kernelspec": {
   "display_name": "Python 3",
   "language": "python",
   "name": "python3"
  },
  "language_info": {
   "codemirror_mode": {
    "name": "ipython",
    "version": 3
   },
   "file_extension": ".py",
   "mimetype": "text/x-python",
   "name": "python",
   "nbconvert_exporter": "python",
   "pygments_lexer": "ipython3",
   "version": "3.6.1"
  }
 },
 "nbformat": 4,
 "nbformat_minor": 2
}
