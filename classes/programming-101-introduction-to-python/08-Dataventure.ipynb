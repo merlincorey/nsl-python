{
 "cells": [
  {
   "cell_type": "code",
   "execution_count": 2,
   "metadata": {},
   "outputs": [
    {
     "name": "stdout",
     "output_type": "stream",
     "text": [
      "==============================\n",
      "Welcome to my Awesome Program!\n",
      "==============================\n",
      "\n",
      "What is your name? Merlin\n",
      "Your name is: Merlin\n",
      "\n",
      "Are you ready for an adventure? no\n",
      "\n",
      "FINE BE THAT WAY\n"
     ]
    }
   ],
   "source": [
    "print('=' * 30)\n",
    "print('Welcome to my Awesome Program!')\n",
    "print('=' * 30)\n",
    "\n",
    "print()\n",
    "a = input('What is your name? ')\n",
    "print('Your name is: {}'.format(a))\n",
    "print()\n",
    "b = input('Are you ready for an adventure? ')\n",
    "print()\n",
    "if 'yes' == b.lower():\n",
    "    print('ADVENTURE TIME\\n' * 5)\n",
    "else:\n",
    "    print('FINE BE THAT WAY')"
   ]
  },
  {
   "cell_type": "code",
   "execution_count": 5,
   "metadata": {},
   "outputs": [
    {
     "name": "stdout",
     "output_type": "stream",
     "text": [
      "Welcome traveler!  What be yer name? merlin\n",
      "That is a strange name, merlin, but I like it.\n",
      "You are in the lab\n",
      "A bright and messy labratory.\n",
      "What will merlin do?\n",
      "> north\n",
      "You are in the toilet\n",
      "A dark and clean toilet.\n",
      "What will merlin do?\n",
      "> south\n",
      "You are in the toilet\n",
      "A dark and clean toilet.\n",
      "What will merlin do?\n",
      "> die\n",
      "Suddenly, you do not feel so good.  Maybe you should lie down.\n",
      "Sorry, merlin, but you are DEAD!\n"
     ]
    },
    {
     "ename": "SystemExit",
     "evalue": "0",
     "output_type": "error",
     "traceback": [
      "An exception has occurred, use %tb to see the full traceback.\n",
      "\u001b[0;31mSystemExit\u001b[0m\u001b[0;31m:\u001b[0m 0\n"
     ]
    },
    {
     "name": "stderr",
     "output_type": "stream",
     "text": [
      "/usr/home/merlin/development/github.com/merlincorey/nsl-python/env/lib/python3.6/site-packages/IPython/core/interactiveshell.py:2918: UserWarning: To exit: use 'exit', 'quit', or Ctrl-D.\n",
      "  warn(\"To exit: use 'exit', 'quit', or Ctrl-D.\", stacklevel=1)\n"
     ]
    }
   ],
   "source": [
    "'''Adventure game by INSERTYOURNAMEHERE.\n",
    "\n",
    "INSERTDESCRIPTIONHERE\n",
    "\n",
    "ANDHERE TOO\n",
    "'''\n",
    "\n",
    "import sys\n",
    "\n",
    "\n",
    "def adventure():\n",
    "    '''Play the adventure, reading from standard input and writing to standard output.'''\n",
    "\n",
    "    rooms = {'lab': 'A bright and messy labratory.',\n",
    "             'toilet': 'A dark and clean toilet.'}\n",
    "    room = 'lab'\n",
    "    \n",
    "    name = input('Welcome traveler!  What be yer name? ')\n",
    "    print('That is a strange name, {}, but I like it.'.format(name))\n",
    "    \n",
    "    living = True\n",
    "    winning = False\n",
    "    while living and not winning:\n",
    "        print('You are in the {}'.format(room))\n",
    "        print(rooms[room])\n",
    "        action = input('What will {} do?\\n> '.format(name)).strip().lower()\n",
    "\n",
    "        if 'die' == action:\n",
    "            print('Suddenly, you do not feel so good.  Maybe you should lie down.')            \n",
    "            living = False\n",
    "        elif 'north':\n",
    "            if 'lab' == room:\n",
    "                room = 'toilet'\n",
    "        elif 'south':\n",
    "            if 'toilet' == room:\n",
    "                room = 'lab'\n",
    "        elif 'sleep' == action:\n",
    "            print('You feel fine, no need to sleep.')\n",
    "        else:\n",
    "            print('Not sure what you meant by that, boss.')\n",
    "            \n",
    "\n",
    "    if living:\n",
    "        print('You made it out alive, {}!'.format(name))\n",
    "    else:\n",
    "        print('Sorry, {}, but you are DEAD!'.format(name))\n",
    "\n",
    "    if winning:\n",
    "        print('I am not sure how, but you also managed to win!  Great job!')\n",
    "\n",
    "\n",
    "def main(argv):\n",
    "    '''Return exit code as integer, receives commandline arguments as list of strings, runs Adventure in between.'''\n",
    "    adventure()\n",
    "    return 0\n",
    "\n",
    "if '__main__' == __name__:\n",
    "    sys.exit(main(sys.argv))\n"
   ]
  },
  {
   "cell_type": "code",
   "execution_count": 6,
   "metadata": {},
   "outputs": [],
   "source": [
    "import adventure"
   ]
  },
  {
   "cell_type": "code",
   "execution_count": 7,
   "metadata": {},
   "outputs": [
    {
     "name": "stdout",
     "output_type": "stream",
     "text": [
      "Welcome traveler!  What be yer name? merles\n",
      "That is a strange name, merles, but I like it.\n",
      "You are in the lab\n",
      "A bright and messy labratory.\n",
      "What will merles do?\n",
      "> die\n",
      "Suddenly, you do not feel so good.  Maybe you should lie down.\n",
      "Sorry, merles, but you are DEAD!\n"
     ]
    },
    {
     "data": {
      "text/plain": [
       "0"
      ]
     },
     "execution_count": 7,
     "metadata": {},
     "output_type": "execute_result"
    }
   ],
   "source": [
    "adventure.main([])"
   ]
  },
  {
   "cell_type": "raw",
   "metadata": {},
   "source": []
  },
  {
   "cell_type": "code",
   "execution_count": 8,
   "metadata": {},
   "outputs": [
    {
     "data": {
      "text/plain": [
       "'adventure'"
      ]
     },
     "execution_count": 8,
     "metadata": {},
     "output_type": "execute_result"
    }
   ],
   "source": [
    "adventure.__name__"
   ]
  },
  {
   "cell_type": "code",
   "execution_count": null,
   "metadata": {},
   "outputs": [],
   "source": []
  }
 ],
 "metadata": {
  "kernelspec": {
   "display_name": "Python 3",
   "language": "python",
   "name": "python3"
  },
  "language_info": {
   "codemirror_mode": {
    "name": "ipython",
    "version": 3
   },
   "file_extension": ".py",
   "mimetype": "text/x-python",
   "name": "python",
   "nbconvert_exporter": "python",
   "pygments_lexer": "ipython3",
   "version": "3.6.1"
  }
 },
 "nbformat": 4,
 "nbformat_minor": 2
}
